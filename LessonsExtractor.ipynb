{
  "nbformat": 4,
  "nbformat_minor": 0,
  "metadata": {
    "colab": {
      "provenance": [],
      "gpuType": "T4",
      "include_colab_link": true
    },
    "kernelspec": {
      "name": "python3",
      "display_name": "Python 3"
    },
    "language_info": {
      "name": "python"
    },
    "accelerator": "GPU"
  },
  "cells": [
    {
      "cell_type": "markdown",
      "metadata": {
        "id": "view-in-github",
        "colab_type": "text"
      },
      "source": [
        "<a href=\"https://colab.research.google.com/github/z4n0/LessonsExtractor/blob/main/LessonsExtractor.ipynb\" target=\"_parent\"><img src=\"https://colab.research.google.com/assets/colab-badge.svg\" alt=\"Open In Colab\"/></a>"
      ]
    },
    {
      "cell_type": "code",
      "source": [
        "from google.colab import drive\n",
        "drive.mount('/content/drive')"
      ],
      "metadata": {
        "id": "0kO_tqcov-aI",
        "colab": {
          "base_uri": "https://localhost:8080/"
        },
        "outputId": "f2408866-862a-43d4-b3b0-1dda7fc8fc14"
      },
      "execution_count": 1,
      "outputs": [
        {
          "output_type": "stream",
          "name": "stdout",
          "text": [
            "Mounted at /content/drive\n"
          ]
        }
      ]
    },
    {
      "cell_type": "code",
      "source": [
        "%ls /content/drive/MyDrive/lessonsExtractor"
      ],
      "metadata": {
        "id": "hl37iVQ3wAM7",
        "colab": {
          "base_uri": "https://localhost:8080/"
        },
        "outputId": "df3d0b70-b263-43f3-da45-caf7ef3b7656"
      },
      "execution_count": 2,
      "outputs": [
        {
          "output_type": "stream",
          "name": "stdout",
          "text": [
            "10_AN2DL_CS_Localization_WSL_Explanations.mp4       AOS.mp4                exe_es.mp4\n",
            "9_Semantic_Segmentation_converted.docx              converted_video.mp4    LessonsExtractor.ipynb\n",
            "9_Semantic_Segmentation_converted.mp4               CSR-20221124.mp4       output.docx\n",
            "9_Semantic_Segmentation_converted_slides_only.docx  exe_es_converted.docx  \u001b[0m\u001b[01;34mslides\u001b[0m/\n",
            "9_Semantic_Segmentation.mp4                         exe_es_converted.mp4\n"
          ]
        }
      ]
    },
    {
      "cell_type": "markdown",
      "source": [
        "NB: TURN ON THE T4 GPU"
      ],
      "metadata": {
        "id": "tGkXrIYPFgQ3"
      }
    },
    {
      "cell_type": "code",
      "source": [
        "!pip install opencv-python"
      ],
      "metadata": {
        "id": "e-DxNH_1u1Wt",
        "colab": {
          "base_uri": "https://localhost:8080/"
        },
        "outputId": "41d1fa9d-fb4f-4413-b582-c8c0344b6675"
      },
      "execution_count": 3,
      "outputs": [
        {
          "output_type": "stream",
          "name": "stdout",
          "text": [
            "Requirement already satisfied: opencv-python in /usr/local/lib/python3.10/dist-packages (4.8.0.76)\n",
            "Requirement already satisfied: numpy>=1.21.2 in /usr/local/lib/python3.10/dist-packages (from opencv-python) (1.23.5)\n"
          ]
        }
      ]
    },
    {
      "cell_type": "code",
      "source": [
        "%cd /content/drive/MyDrive/lessonsExtractor/"
      ],
      "metadata": {
        "id": "4ccQmw_FyoBn",
        "colab": {
          "base_uri": "https://localhost:8080/"
        },
        "outputId": "fbbd1d3b-de0c-4c97-87d9-f0884f114d75"
      },
      "execution_count": 4,
      "outputs": [
        {
          "output_type": "stream",
          "name": "stdout",
          "text": [
            "/content/drive/MyDrive/lessonsExtractor\n"
          ]
        }
      ]
    },
    {
      "cell_type": "code",
      "source": [
        "%ls"
      ],
      "metadata": {
        "id": "eQo9mJvpypKv",
        "colab": {
          "base_uri": "https://localhost:8080/"
        },
        "outputId": "f9d37332-eb84-47a1-8861-6a9bdb1ed9db"
      },
      "execution_count": 5,
      "outputs": [
        {
          "output_type": "stream",
          "name": "stdout",
          "text": [
            "10_AN2DL_CS_Localization_WSL_Explanations.mp4       AOS.mp4                exe_es.mp4\n",
            "9_Semantic_Segmentation_converted.docx              converted_video.mp4    LessonsExtractor.ipynb\n",
            "9_Semantic_Segmentation_converted.mp4               CSR-20221124.mp4       output.docx\n",
            "9_Semantic_Segmentation_converted_slides_only.docx  exe_es_converted.docx  \u001b[0m\u001b[01;34mslides\u001b[0m/\n",
            "9_Semantic_Segmentation.mp4                         exe_es_converted.mp4\n"
          ]
        }
      ]
    },
    {
      "cell_type": "markdown",
      "source": [
        "## conversion from mkv to mp4\n",
        "NB skip this section if you already have a mp4 as input"
      ],
      "metadata": {
        "id": "DJW17lm8zjOI"
      }
    },
    {
      "cell_type": "code",
      "source": [
        "!ffmpeg -i prova.mkv"
      ],
      "metadata": {
        "id": "vAakNFvfAiKS"
      },
      "execution_count": null,
      "outputs": []
    },
    {
      "cell_type": "code",
      "source": [
        "#!ffmpeg -i prova.mkv -c:v libx264 -c:a aac prova_converted.mp4"
      ],
      "metadata": {
        "id": "H7VWtpUyzhah"
      },
      "execution_count": null,
      "outputs": []
    },
    {
      "cell_type": "markdown",
      "source": [
        "reduce quality and bit rate to help the code run faster"
      ],
      "metadata": {
        "id": "69BFKqis0FAd"
      }
    },
    {
      "cell_type": "code",
      "source": [
        "!ffmpeg -i prova.mkv -s 1280x720 -b:v 1M -c:v libx264 -c:a aac prova_converted.mp4"
      ],
      "metadata": {
        "id": "s1ULV6OC0EG8"
      },
      "execution_count": null,
      "outputs": []
    },
    {
      "cell_type": "markdown",
      "source": [
        "CODE TO REDUCE QUALITY AND BIT RATE AND SELECT A PIECE OF THE MP4 VIDEO"
      ],
      "metadata": {
        "id": "lEh4fvV54lY3"
      }
    },
    {
      "cell_type": "markdown",
      "source": [
        "#check if ffmpeg is compatible for hw accelleration\n",
        "\n",
        "TURN ON THE T4 GPU!!\n",
        "\n",
        "A typical successful output snippet might start like this:\n"
      ],
      "metadata": {
        "id": "QVoSM5g2EfL1"
      }
    },
    {
      "cell_type": "code",
      "source": [
        "\n",
        "Encoder h264_nvenc [NVIDIA NVENC H.264 encoder]:\n",
        "    General capabilities: delay hardware\n",
        "    Threading capabilities: none\n",
        "    Supported pixel formats: nv12 p010le yuv444p nv16 yuv444p16le bgr0 rgb0 ...\n",
        "    ...\n"
      ],
      "metadata": {
        "id": "3GzWKPyaEn2D",
        "colab": {
          "base_uri": "https://localhost:8080/",
          "height": 140
        },
        "outputId": "13dfc97d-8d1f-4e7c-eb29-7483ae29802d"
      },
      "execution_count": null,
      "outputs": [
        {
          "output_type": "error",
          "ename": "SyntaxError",
          "evalue": "ignored",
          "traceback": [
            "\u001b[0;36m  File \u001b[0;32m\"<ipython-input-8-e5140c62d1fc>\"\u001b[0;36m, line \u001b[0;32m1\u001b[0m\n\u001b[0;31m    Encoder h264_nvenc [NVIDIA NVENC H.264 encoder]:\u001b[0m\n\u001b[0m            ^\u001b[0m\n\u001b[0;31mSyntaxError\u001b[0m\u001b[0;31m:\u001b[0m invalid syntax\n"
          ]
        }
      ]
    },
    {
      "cell_type": "code",
      "source": [
        "#code to check if you can use accelleration\n",
        "!ffmpeg -h encoder=h264_nvenc"
      ],
      "metadata": {
        "id": "xf6mphRYEII0"
      },
      "execution_count": null,
      "outputs": []
    },
    {
      "cell_type": "code",
      "source": [
        "#check if the tpu is on\n",
        "!nvidia-smi"
      ],
      "metadata": {
        "id": "WoSA9mYqF9uS"
      },
      "execution_count": null,
      "outputs": []
    },
    {
      "cell_type": "code",
      "source": [
        "%ls"
      ],
      "metadata": {
        "colab": {
          "base_uri": "https://localhost:8080/"
        },
        "id": "MZvvJtPGlBLP",
        "outputId": "ea758a21-6041-4f2c-a01a-75fe4d4d6e3d"
      },
      "execution_count": null,
      "outputs": [
        {
          "output_type": "stream",
          "name": "stdout",
          "text": [
            "converted_video.mp4  CSR-20221124.mp4  lessonsExtractor.ipynb  \u001b[0m\u001b[01;34mslides\u001b[0m/\n"
          ]
        }
      ]
    },
    {
      "cell_type": "markdown",
      "source": [
        "#slide extractor"
      ],
      "metadata": {
        "id": "HWRxLyAGhTmC"
      }
    },
    {
      "cell_type": "code",
      "source": [
        "import cv2\n",
        "import numpy as np\n",
        "import os"
      ],
      "metadata": {
        "id": "CdA19uZ0h6Ja"
      },
      "execution_count": 6,
      "outputs": []
    },
    {
      "cell_type": "code",
      "source": [
        "%ls #to copy paste the name of the video you want to transcribe"
      ],
      "metadata": {
        "id": "J2tMEmLbGOof"
      },
      "execution_count": null,
      "outputs": []
    },
    {
      "cell_type": "code",
      "source": [
        "input_video_path = '/content/drive/MyDrive/lessonsExtractor/10_AN2DL_CS_Localization_WSL_Explanations.mp4'\n",
        "\n",
        "# Extract base name and remove extension to form the new output file name\n",
        "base_name = os.path.basename(input_video_path)\n",
        "file_name_without_ext = os.path.splitext(base_name)[0]\n",
        "output_video_path = f\"/content/drive/MyDrive/lessonsExtractor/{file_name_without_ext}_converted.mp4\"\n",
        "resolution = \"1280x720\"\n",
        "bitrate = \"1M\"\n",
        "start_time = \"00:00:00\"  # Start at 0 minutes"
      ],
      "metadata": {
        "id": "7WLs5IdG4k7P"
      },
      "execution_count": 19,
      "outputs": []
    },
    {
      "cell_type": "code",
      "source": [
        "#duration = \"00:30:00\"  # Duration of 50 minutes, will stop at the end of the video if it's shorter\n",
        "\n",
        "# Standard FFmpeg command\n",
        "#!ffmpeg -ss {start_time} -i {input_video_path} -t {duration} -s {resolution} -b:v {bitrate} -c:v libx264 -c:a aac {output_video_path}\n",
        "\n",
        "# GPU accelerated version\n",
        "#!ffmpeg -hwaccel cuda -ss {start_time} -i {input_video_path} -s {resolution} -b:v {bitrate} -c:v h264_nvenc -c:a aac {output_video_path}\n",
        "#!ffmpeg -i {input_video_path} -ss {start_time} -s {resolution} -b:v {bitrate} -c:v h264_nvenc -c:a aac {output_video_path}"
      ],
      "metadata": {
        "id": "cnEQxoQR4O80",
        "colab": {
          "base_uri": "https://localhost:8080/"
        },
        "outputId": "9e41cfcf-dd5d-4f99-98b6-197e71fed460"
      },
      "execution_count": 9,
      "outputs": [
        {
          "output_type": "stream",
          "name": "stdout",
          "text": [
            "ffmpeg version 4.4.2-0ubuntu0.22.04.1 Copyright (c) 2000-2021 the FFmpeg developers\n",
            "  built with gcc 11 (Ubuntu 11.2.0-19ubuntu1)\n",
            "  configuration: --prefix=/usr --extra-version=0ubuntu0.22.04.1 --toolchain=hardened --libdir=/usr/lib/x86_64-linux-gnu --incdir=/usr/include/x86_64-linux-gnu --arch=amd64 --enable-gpl --disable-stripping --enable-gnutls --enable-ladspa --enable-libaom --enable-libass --enable-libbluray --enable-libbs2b --enable-libcaca --enable-libcdio --enable-libcodec2 --enable-libdav1d --enable-libflite --enable-libfontconfig --enable-libfreetype --enable-libfribidi --enable-libgme --enable-libgsm --enable-libjack --enable-libmp3lame --enable-libmysofa --enable-libopenjpeg --enable-libopenmpt --enable-libopus --enable-libpulse --enable-librabbitmq --enable-librubberband --enable-libshine --enable-libsnappy --enable-libsoxr --enable-libspeex --enable-libsrt --enable-libssh --enable-libtheora --enable-libtwolame --enable-libvidstab --enable-libvorbis --enable-libvpx --enable-libwebp --enable-libx265 --enable-libxml2 --enable-libxvid --enable-libzimg --enable-libzmq --enable-libzvbi --enable-lv2 --enable-omx --enable-openal --enable-opencl --enable-opengl --enable-sdl2 --enable-pocketsphinx --enable-librsvg --enable-libmfx --enable-libdc1394 --enable-libdrm --enable-libiec61883 --enable-chromaprint --enable-frei0r --enable-libx264 --enable-shared\n",
            "  libavutil      56. 70.100 / 56. 70.100\n",
            "  libavcodec     58.134.100 / 58.134.100\n",
            "  libavformat    58. 76.100 / 58. 76.100\n",
            "  libavdevice    58. 13.100 / 58. 13.100\n",
            "  libavfilter     7.110.100 /  7.110.100\n",
            "  libswscale      5.  9.100 /  5.  9.100\n",
            "  libswresample   3.  9.100 /  3.  9.100\n",
            "  libpostproc    55.  9.100 / 55.  9.100\n",
            "Input #0, mov,mp4,m4a,3gp,3g2,mj2, from '/content/drive/MyDrive/lessonsExtractor/10_AN2DL_CS_Localization_WSL_Explanations.mp4':\n",
            "  Metadata:\n",
            "    major_brand     : iso6\n",
            "    minor_version   : 1\n",
            "    compatible_brands: iso6dsmsmsixdash\n",
            "    creation_time   : 2023-11-14T11:37:09.000000Z\n",
            "    encoder         : GPAC-2.3-DEV-rev566-g50c2ab06f-master\n",
            "  Duration: 01:36:54.55, start: 0.048000, bitrate: 176 kb/s\n",
            "  Stream #0:0(und): Video: h264 (High) (avc1 / 0x31637661), yuv420p, 1920x1080 [SAR 1:1 DAR 16:9], 0 kb/s, 25 fps, 25 tbr, 12800 tbn, 50 tbc (default)\n",
            "    Metadata:\n",
            "      handler_name    : VideoHandler\n",
            "      vendor_id       : [0][0][0][0]\n",
            "  Stream #0:1(und): Audio: aac (LC) (mp4a / 0x6134706D), 32000 Hz, mono, fltp, 0 kb/s (default)\n",
            "    Metadata:\n",
            "      handler_name    : SoundHandler\n",
            "      vendor_id       : [0][0][0][0]\n",
            "Stream mapping:\n",
            "  Stream #0:0 -> #0:0 (h264 (native) -> h264 (h264_nvenc))\n",
            "  Stream #0:1 -> #0:1 (aac (native) -> aac (native))\n",
            "Press [q] to stop, [?] for help\n",
            "Output #0, mp4, to '/content/drive/MyDrive/lessonsExtractor/10_AN2DL_CS_Localization_WSL_Explanations_converted.mp4':\n",
            "  Metadata:\n",
            "    major_brand     : iso6\n",
            "    minor_version   : 1\n",
            "    compatible_brands: iso6dsmsmsixdash\n",
            "    encoder         : Lavf58.76.100\n",
            "  Stream #0:0(und): Video: h264 (Main) (avc1 / 0x31637661), yuv420p(tv, progressive), 1280x720 [SAR 1:1 DAR 16:9], q=2-31, 1000 kb/s, 25 fps, 12800 tbn (default)\n",
            "    Metadata:\n",
            "      handler_name    : VideoHandler\n",
            "      vendor_id       : [0][0][0][0]\n",
            "      encoder         : Lavc58.134.100 h264_nvenc\n",
            "    Side data:\n",
            "      cpb: bitrate max/min/avg: 0/0/1000000 buffer size: 2000000 vbv_delay: N/A\n",
            "  Stream #0:1(und): Audio: aac (LC) (mp4a / 0x6134706D), 32000 Hz, mono, fltp, 69 kb/s (default)\n",
            "    Metadata:\n",
            "      handler_name    : SoundHandler\n",
            "      vendor_id       : [0][0][0][0]\n",
            "      encoder         : Lavc58.134.100 aac\n",
            "frame=145362 fps=160 q=10.0 Lsize=  506064kB time=01:36:54.32 bitrate= 713.0kbits/s dup=3 drop=0 speed=6.41x    \n",
            "video:453015kB audio:49213kB subtitle:0kB other streams:0kB global headers:0kB muxing overhead: 0.763882%\n",
            "\u001b[1;36m[aac @ 0x5d246869aa80] \u001b[0mQavg: 128.970\n"
          ]
        }
      ]
    },
    {
      "cell_type": "markdown",
      "source": [
        "you should see the new converted_video.mp4 here. let's check!"
      ],
      "metadata": {
        "id": "lPhc983z6MQw"
      }
    },
    {
      "cell_type": "code",
      "source": [
        "%ls"
      ],
      "metadata": {
        "colab": {
          "base_uri": "https://localhost:8080/"
        },
        "id": "x9wwJVTh02fr",
        "outputId": "2e116b49-598a-4eec-cfea-c713f08dd0ed"
      },
      "execution_count": 22,
      "outputs": [
        {
          "output_type": "stream",
          "name": "stdout",
          "text": [
            "10_AN2DL_CS_Localization_WSL_Explanations.mp4       CSR-20221124.mp4       LessonsExtractor.ipynb\n",
            "9_Semantic_Segmentation_converted.mp4               exe_es_converted.docx  output.docx\n",
            "9_Semantic_Segmentation_converted_slides_only.docx  exe_es_converted.mp4\n",
            "AOS.mp4                                             exe_es.mp4\n"
          ]
        }
      ]
    },
    {
      "cell_type": "markdown",
      "source": [
        "**NB: THE PARAMETER THRESHOLD IN DETECT_SLIDES(....) HAS TO BE FINE TUNED FOR EACH VIDEO**\n",
        "\n",
        "the higher the value the more selective it becomes"
      ],
      "metadata": {
        "id": "j0Gdu8QL7bQB"
      }
    },
    {
      "cell_type": "code",
      "source": [
        "def sum_time(time1, time2):\n",
        "    # Convert time to seconds\n",
        "    def time_to_seconds(time_str):\n",
        "        h, m, s = map(int, time_str.split(':'))\n",
        "        return h * 3600 + m * 60 + s\n",
        "\n",
        "    # Convert seconds back to time\n",
        "    def seconds_to_time(seconds):\n",
        "        h = seconds // 3600\n",
        "        m = (seconds % 3600) // 60\n",
        "        s = seconds % 60\n",
        "        return f\"{h:02d}:{m:02d}:{s:02d}\"\n",
        "\n",
        "    total_seconds = time_to_seconds(time1) + time_to_seconds(time2)\n",
        "    return seconds_to_time(total_seconds)"
      ],
      "metadata": {
        "id": "p5qJZeW7RJE7"
      },
      "execution_count": 23,
      "outputs": []
    },
    {
      "cell_type": "code",
      "source": [
        "def save_frame(frame, timestamp, output_folder='slides'):\n",
        "    print(sum_time(timestamp, start_time)) ## WHERE sum_time IS DEFINED?\n",
        "    if not os.path.exists(output_folder):\n",
        "        os.makedirs(output_folder)\n",
        "    filename = f\"{output_folder}/slide_{timestamp}.jpg\"\n",
        "    cv2.imwrite(filename, frame)\n",
        "    print(f\"Saved: {filename}\")\n",
        "\n",
        "def frame_difference(prev_frame, curr_frame):\n",
        "    # Compute the absolute difference between the current frame and the previous frame\n",
        "    diff = cv2.absdiff(prev_frame, curr_frame)\n",
        "    non_zero_count = np.count_nonzero(diff)\n",
        "    return non_zero_count\n",
        "\n",
        "def milliseconds_to_hh_mm_ss(milliseconds):\n",
        "    hours = int(milliseconds / 3600000)\n",
        "    minutes = int((milliseconds % 3600000) / 60000)\n",
        "    seconds = int((milliseconds % 60000) / 1000)\n",
        "    return f\"{hours:02d}:{minutes:02d}:{seconds:02d}\"\n",
        "\n",
        "#trashold is to be fine tuned for each video\n",
        "def detect_slides(video_path, threshold=400000, skip_frames=30):\n",
        "    cap = cv2.VideoCapture(video_path)\n",
        "\n",
        "    ret, prev_frame = cap.read()\n",
        "    if not ret:\n",
        "        print(\"Failed to read the video\")\n",
        "        return []\n",
        "\n",
        "    prev_frame = cv2.cvtColor(prev_frame, cv2.COLOR_BGR2GRAY)\n",
        "    frame_count = 0\n",
        "    slide_changes = []\n",
        "\n",
        "    while cap.isOpened():\n",
        "        ret, curr_frame = cap.read()\n",
        "        if not ret:\n",
        "            break\n",
        "\n",
        "        if frame_count % skip_frames == 0:\n",
        "            gray_frame = cv2.cvtColor(curr_frame, cv2.COLOR_BGR2GRAY)\n",
        "            if frame_difference(prev_frame, gray_frame) > threshold:\n",
        "                timestamp_ms = cap.get(cv2.CAP_PROP_POS_MSEC)\n",
        "                timestamp_readable = milliseconds_to_hh_mm_ss(timestamp_ms)\n",
        "                adjusted_timestamp = sum_time(timestamp_readable, start_time)  # Adjust the timestamp\n",
        "                slide_changes.append(adjusted_timestamp)\n",
        "                save_frame(curr_frame, adjusted_timestamp)  # Use adjusted timestamp\n",
        "                prev_frame = gray_frame\n",
        "        frame_count += 1\n",
        "\n",
        "    cap.release()\n",
        "    return slide_changes\n",
        "\n",
        "#input_video_path = output_video_path\n",
        "slide_changes = detect_slides(input_video_path)\n",
        "print(f\"Slide changes detected at: {slide_changes}\")"
      ],
      "metadata": {
        "id": "3AjMT6gtu_4j",
        "colab": {
          "base_uri": "https://localhost:8080/"
        },
        "outputId": "0e64906f-e857-4684-e325-9f9c334fe6b1"
      },
      "execution_count": 26,
      "outputs": [
        {
          "output_type": "stream",
          "name": "stdout",
          "text": [
            "00:00:01\n",
            "Saved: slides/slide_00:00:01.jpg\n",
            "00:00:02\n",
            "Saved: slides/slide_00:00:02.jpg\n",
            "00:00:27\n",
            "Saved: slides/slide_00:00:27.jpg\n",
            "00:01:31\n",
            "Saved: slides/slide_00:01:31.jpg\n",
            "00:02:01\n",
            "Saved: slides/slide_00:02:01.jpg\n",
            "00:03:09\n",
            "Saved: slides/slide_00:03:09.jpg\n",
            "00:03:14\n",
            "Saved: slides/slide_00:03:14.jpg\n",
            "00:03:19\n",
            "Saved: slides/slide_00:03:19.jpg\n",
            "00:03:48\n",
            "Saved: slides/slide_00:03:48.jpg\n",
            "00:04:30\n",
            "Saved: slides/slide_00:04:30.jpg\n",
            "00:05:00\n",
            "Saved: slides/slide_00:05:00.jpg\n",
            "00:06:26\n",
            "Saved: slides/slide_00:06:26.jpg\n",
            "00:08:54\n",
            "Saved: slides/slide_00:08:54.jpg\n",
            "00:09:24\n",
            "Saved: slides/slide_00:09:24.jpg\n",
            "00:11:27\n",
            "Saved: slides/slide_00:11:27.jpg\n",
            "00:15:21\n",
            "Saved: slides/slide_00:15:21.jpg\n",
            "00:15:34\n",
            "Saved: slides/slide_00:15:34.jpg\n",
            "00:15:43\n",
            "Saved: slides/slide_00:15:43.jpg\n",
            "00:16:03\n",
            "Saved: slides/slide_00:16:03.jpg\n",
            "00:17:15\n",
            "Saved: slides/slide_00:17:15.jpg\n",
            "00:17:27\n",
            "Saved: slides/slide_00:17:27.jpg\n",
            "00:17:28\n",
            "Saved: slides/slide_00:17:28.jpg\n",
            "00:19:56\n",
            "Saved: slides/slide_00:19:56.jpg\n",
            "00:20:26\n",
            "Saved: slides/slide_00:20:26.jpg\n",
            "00:22:21\n",
            "Saved: slides/slide_00:22:21.jpg\n",
            "00:22:58\n",
            "Saved: slides/slide_00:22:58.jpg\n",
            "00:23:38\n",
            "Saved: slides/slide_00:23:38.jpg\n",
            "00:23:58\n",
            "Saved: slides/slide_00:23:58.jpg\n",
            "00:26:52\n",
            "Saved: slides/slide_00:26:52.jpg\n",
            "00:26:54\n",
            "Saved: slides/slide_00:26:54.jpg\n",
            "00:27:10\n",
            "Saved: slides/slide_00:27:10.jpg\n",
            "00:27:32\n",
            "Saved: slides/slide_00:27:32.jpg\n",
            "00:27:43\n",
            "Saved: slides/slide_00:27:43.jpg\n",
            "00:27:51\n",
            "Saved: slides/slide_00:27:51.jpg\n",
            "00:28:46\n",
            "Saved: slides/slide_00:28:46.jpg\n",
            "00:29:16\n",
            "Saved: slides/slide_00:29:16.jpg\n",
            "00:31:40\n",
            "Saved: slides/slide_00:31:40.jpg\n",
            "00:33:09\n",
            "Saved: slides/slide_00:33:09.jpg\n",
            "00:33:39\n",
            "Saved: slides/slide_00:33:39.jpg\n",
            "00:34:32\n",
            "Saved: slides/slide_00:34:32.jpg\n",
            "00:35:02\n",
            "Saved: slides/slide_00:35:02.jpg\n",
            "00:36:04\n",
            "Saved: slides/slide_00:36:04.jpg\n",
            "00:37:44\n",
            "Saved: slides/slide_00:37:44.jpg\n",
            "00:37:45\n",
            "Saved: slides/slide_00:37:45.jpg\n",
            "00:39:44\n",
            "Saved: slides/slide_00:39:44.jpg\n",
            "00:40:15\n",
            "Saved: slides/slide_00:40:15.jpg\n",
            "00:40:19\n",
            "Saved: slides/slide_00:40:19.jpg\n",
            "00:40:21\n",
            "Saved: slides/slide_00:40:21.jpg\n",
            "00:40:22\n",
            "Saved: slides/slide_00:40:22.jpg\n",
            "00:40:24\n",
            "Saved: slides/slide_00:40:24.jpg\n",
            "00:40:25\n",
            "Saved: slides/slide_00:40:25.jpg\n",
            "00:40:26\n",
            "Saved: slides/slide_00:40:26.jpg\n",
            "00:40:27\n",
            "Saved: slides/slide_00:40:27.jpg\n",
            "00:40:28\n",
            "Saved: slides/slide_00:40:28.jpg\n",
            "00:40:30\n",
            "Saved: slides/slide_00:40:30.jpg\n",
            "00:40:31\n",
            "Saved: slides/slide_00:40:31.jpg\n",
            "00:40:32\n",
            "Saved: slides/slide_00:40:32.jpg\n",
            "00:40:33\n",
            "Saved: slides/slide_00:40:33.jpg\n",
            "00:40:34\n",
            "Saved: slides/slide_00:40:34.jpg\n",
            "00:40:36\n",
            "Saved: slides/slide_00:40:36.jpg\n",
            "00:40:38\n",
            "Saved: slides/slide_00:40:38.jpg\n",
            "00:40:39\n",
            "Saved: slides/slide_00:40:39.jpg\n",
            "00:40:43\n",
            "Saved: slides/slide_00:40:43.jpg\n",
            "00:40:44\n",
            "Saved: slides/slide_00:40:44.jpg\n",
            "00:40:49\n",
            "Saved: slides/slide_00:40:49.jpg\n",
            "00:40:52\n",
            "Saved: slides/slide_00:40:52.jpg\n",
            "00:40:54\n",
            "Saved: slides/slide_00:40:54.jpg\n",
            "00:40:55\n",
            "Saved: slides/slide_00:40:55.jpg\n",
            "00:40:56\n",
            "Saved: slides/slide_00:40:56.jpg\n",
            "00:40:57\n",
            "Saved: slides/slide_00:40:57.jpg\n",
            "00:40:58\n",
            "Saved: slides/slide_00:40:58.jpg\n",
            "00:41:01\n",
            "Saved: slides/slide_00:41:01.jpg\n",
            "00:41:02\n",
            "Saved: slides/slide_00:41:02.jpg\n",
            "00:41:08\n",
            "Saved: slides/slide_00:41:08.jpg\n",
            "00:41:13\n",
            "Saved: slides/slide_00:41:13.jpg\n",
            "00:41:15\n",
            "Saved: slides/slide_00:41:15.jpg\n",
            "00:41:20\n",
            "Saved: slides/slide_00:41:20.jpg\n",
            "00:41:21\n",
            "Saved: slides/slide_00:41:21.jpg\n",
            "00:41:22\n",
            "Saved: slides/slide_00:41:22.jpg\n",
            "00:41:24\n",
            "Saved: slides/slide_00:41:24.jpg\n",
            "00:41:25\n",
            "Saved: slides/slide_00:41:25.jpg\n",
            "00:41:26\n",
            "Saved: slides/slide_00:41:26.jpg\n",
            "00:41:27\n",
            "Saved: slides/slide_00:41:27.jpg\n",
            "00:41:28\n",
            "Saved: slides/slide_00:41:28.jpg\n",
            "00:41:30\n",
            "Saved: slides/slide_00:41:30.jpg\n",
            "00:41:31\n",
            "Saved: slides/slide_00:41:31.jpg\n",
            "00:41:32\n",
            "Saved: slides/slide_00:41:32.jpg\n",
            "00:41:33\n",
            "Saved: slides/slide_00:41:33.jpg\n",
            "00:41:34\n",
            "Saved: slides/slide_00:41:34.jpg\n",
            "00:41:36\n",
            "Saved: slides/slide_00:41:36.jpg\n",
            "00:41:37\n",
            "Saved: slides/slide_00:41:37.jpg\n",
            "00:41:38\n",
            "Saved: slides/slide_00:41:38.jpg\n",
            "00:41:39\n",
            "Saved: slides/slide_00:41:39.jpg\n",
            "00:41:40\n",
            "Saved: slides/slide_00:41:40.jpg\n",
            "00:41:42\n",
            "Saved: slides/slide_00:41:42.jpg\n",
            "00:41:43\n",
            "Saved: slides/slide_00:41:43.jpg\n",
            "00:41:44\n",
            "Saved: slides/slide_00:41:44.jpg\n",
            "00:41:45\n",
            "Saved: slides/slide_00:41:45.jpg\n",
            "00:41:46\n",
            "Saved: slides/slide_00:41:46.jpg\n",
            "00:41:48\n",
            "Saved: slides/slide_00:41:48.jpg\n",
            "00:41:49\n",
            "Saved: slides/slide_00:41:49.jpg\n",
            "00:41:50\n",
            "Saved: slides/slide_00:41:50.jpg\n",
            "00:41:51\n",
            "Saved: slides/slide_00:41:51.jpg\n",
            "00:41:52\n",
            "Saved: slides/slide_00:41:52.jpg\n",
            "00:41:54\n",
            "Saved: slides/slide_00:41:54.jpg\n",
            "00:41:55\n",
            "Saved: slides/slide_00:41:55.jpg\n",
            "00:41:56\n",
            "Saved: slides/slide_00:41:56.jpg\n",
            "00:41:57\n",
            "Saved: slides/slide_00:41:57.jpg\n",
            "00:41:58\n",
            "Saved: slides/slide_00:41:58.jpg\n",
            "00:42:00\n",
            "Saved: slides/slide_00:42:00.jpg\n",
            "00:42:01\n",
            "Saved: slides/slide_00:42:01.jpg\n",
            "00:42:02\n",
            "Saved: slides/slide_00:42:02.jpg\n",
            "00:42:03\n",
            "Saved: slides/slide_00:42:03.jpg\n",
            "00:42:06\n",
            "Saved: slides/slide_00:42:06.jpg\n",
            "00:42:07\n",
            "Saved: slides/slide_00:42:07.jpg\n",
            "00:43:18\n",
            "Saved: slides/slide_00:43:18.jpg\n",
            "00:43:19\n",
            "Saved: slides/slide_00:43:19.jpg\n",
            "00:43:25\n",
            "Saved: slides/slide_00:43:25.jpg\n",
            "00:43:34\n",
            "Saved: slides/slide_00:43:34.jpg\n",
            "00:44:04\n",
            "Saved: slides/slide_00:44:04.jpg\n",
            "00:44:24\n",
            "Saved: slides/slide_00:44:24.jpg\n",
            "00:44:34\n",
            "Saved: slides/slide_00:44:34.jpg\n",
            "00:44:54\n",
            "Saved: slides/slide_00:44:54.jpg\n",
            "00:45:54\n",
            "Saved: slides/slide_00:45:54.jpg\n",
            "00:46:24\n",
            "Saved: slides/slide_00:46:24.jpg\n",
            "00:46:51\n",
            "Saved: slides/slide_00:46:51.jpg\n",
            "00:47:21\n",
            "Saved: slides/slide_00:47:21.jpg\n",
            "00:47:33\n",
            "Saved: slides/slide_00:47:33.jpg\n",
            "00:48:45\n",
            "Saved: slides/slide_00:48:45.jpg\n",
            "00:48:46\n",
            "Saved: slides/slide_00:48:46.jpg\n",
            "00:48:49\n",
            "Saved: slides/slide_00:48:49.jpg\n",
            "00:48:50\n",
            "Saved: slides/slide_00:48:50.jpg\n",
            "00:48:52\n",
            "Saved: slides/slide_00:48:52.jpg\n",
            "00:49:22\n",
            "Saved: slides/slide_00:49:22.jpg\n",
            "00:49:52\n",
            "Saved: slides/slide_00:49:52.jpg\n",
            "00:51:33\n",
            "Saved: slides/slide_00:51:33.jpg\n",
            "00:51:52\n",
            "Saved: slides/slide_00:51:52.jpg\n",
            "00:54:21\n",
            "Saved: slides/slide_00:54:21.jpg\n",
            "00:54:38\n",
            "Saved: slides/slide_00:54:38.jpg\n",
            "00:54:51\n",
            "Saved: slides/slide_00:54:51.jpg\n",
            "00:56:52\n",
            "Saved: slides/slide_00:56:52.jpg\n",
            "00:57:09\n",
            "Saved: slides/slide_00:57:09.jpg\n",
            "00:57:21\n",
            "Saved: slides/slide_00:57:21.jpg\n",
            "00:57:42\n",
            "Saved: slides/slide_00:57:42.jpg\n",
            "00:57:51\n",
            "Saved: slides/slide_00:57:51.jpg\n",
            "00:58:10\n",
            "Saved: slides/slide_00:58:10.jpg\n",
            "00:58:21\n",
            "Saved: slides/slide_00:58:21.jpg\n",
            "00:58:51\n",
            "Saved: slides/slide_00:58:51.jpg\n",
            "00:59:21\n",
            "Saved: slides/slide_00:59:21.jpg\n",
            "00:59:51\n",
            "Saved: slides/slide_00:59:51.jpg\n",
            "01:00:12\n",
            "Saved: slides/slide_01:00:12.jpg\n",
            "01:00:42\n",
            "Saved: slides/slide_01:00:42.jpg\n",
            "01:01:37\n",
            "Saved: slides/slide_01:01:37.jpg\n",
            "01:01:39\n",
            "Saved: slides/slide_01:01:39.jpg\n",
            "01:01:42\n",
            "Saved: slides/slide_01:01:42.jpg\n",
            "01:01:54\n",
            "Saved: slides/slide_01:01:54.jpg\n",
            "01:02:04\n",
            "Saved: slides/slide_01:02:04.jpg\n",
            "01:02:06\n",
            "Saved: slides/slide_01:02:06.jpg\n",
            "01:02:08\n",
            "Saved: slides/slide_01:02:08.jpg\n",
            "01:02:12\n",
            "Saved: slides/slide_01:02:12.jpg\n",
            "01:02:34\n",
            "Saved: slides/slide_01:02:34.jpg\n",
            "01:03:04\n",
            "Saved: slides/slide_01:03:04.jpg\n",
            "01:03:16\n",
            "Saved: slides/slide_01:03:16.jpg\n",
            "01:03:26\n",
            "Saved: slides/slide_01:03:26.jpg\n",
            "01:05:26\n",
            "Saved: slides/slide_01:05:26.jpg\n",
            "01:05:33\n",
            "Saved: slides/slide_01:05:33.jpg\n",
            "01:05:43\n",
            "Saved: slides/slide_01:05:43.jpg\n",
            "01:06:03\n",
            "Saved: slides/slide_01:06:03.jpg\n",
            "01:06:21\n",
            "Saved: slides/slide_01:06:21.jpg\n",
            "01:06:44\n",
            "Saved: slides/slide_01:06:44.jpg\n",
            "01:06:45\n",
            "Saved: slides/slide_01:06:45.jpg\n",
            "01:06:46\n",
            "Saved: slides/slide_01:06:46.jpg\n",
            "01:06:49\n",
            "Saved: slides/slide_01:06:49.jpg\n",
            "01:07:10\n",
            "Saved: slides/slide_01:07:10.jpg\n",
            "01:07:12\n",
            "Saved: slides/slide_01:07:12.jpg\n",
            "01:07:14\n",
            "Saved: slides/slide_01:07:14.jpg\n",
            "01:07:18\n",
            "Saved: slides/slide_01:07:18.jpg\n",
            "01:07:44\n",
            "Saved: slides/slide_01:07:44.jpg\n",
            "01:08:14\n",
            "Saved: slides/slide_01:08:14.jpg\n",
            "01:08:26\n",
            "Saved: slides/slide_01:08:26.jpg\n",
            "01:08:27\n",
            "Saved: slides/slide_01:08:27.jpg\n",
            "01:08:30\n",
            "Saved: slides/slide_01:08:30.jpg\n",
            "01:08:44\n",
            "Saved: slides/slide_01:08:44.jpg\n",
            "01:09:30\n",
            "Saved: slides/slide_01:09:30.jpg\n",
            "01:09:45\n",
            "Saved: slides/slide_01:09:45.jpg\n",
            "01:09:56\n",
            "Saved: slides/slide_01:09:56.jpg\n",
            "01:09:57\n",
            "Saved: slides/slide_01:09:57.jpg\n",
            "01:10:15\n",
            "Saved: slides/slide_01:10:15.jpg\n",
            "01:10:27\n",
            "Saved: slides/slide_01:10:27.jpg\n",
            "01:10:57\n",
            "Saved: slides/slide_01:10:57.jpg\n",
            "01:11:27\n",
            "Saved: slides/slide_01:11:27.jpg\n",
            "01:11:57\n",
            "Saved: slides/slide_01:11:57.jpg\n",
            "01:12:27\n",
            "Saved: slides/slide_01:12:27.jpg\n",
            "01:12:57\n",
            "Saved: slides/slide_01:12:57.jpg\n",
            "01:13:12\n",
            "Saved: slides/slide_01:13:12.jpg\n",
            "01:13:14\n",
            "Saved: slides/slide_01:13:14.jpg\n",
            "01:13:15\n",
            "Saved: slides/slide_01:13:15.jpg\n",
            "01:13:22\n",
            "Saved: slides/slide_01:13:22.jpg\n",
            "01:14:52\n",
            "Saved: slides/slide_01:14:52.jpg\n",
            "01:15:21\n",
            "Saved: slides/slide_01:15:21.jpg\n",
            "01:15:25\n",
            "Saved: slides/slide_01:15:25.jpg\n",
            "01:15:37\n",
            "Saved: slides/slide_01:15:37.jpg\n",
            "01:15:54\n",
            "Saved: slides/slide_01:15:54.jpg\n",
            "01:15:55\n",
            "Saved: slides/slide_01:15:55.jpg\n",
            "01:15:58\n",
            "Saved: slides/slide_01:15:58.jpg\n",
            "01:16:00\n",
            "Saved: slides/slide_01:16:00.jpg\n",
            "01:16:09\n",
            "Saved: slides/slide_01:16:09.jpg\n",
            "01:17:00\n",
            "Saved: slides/slide_01:17:00.jpg\n",
            "01:17:08\n",
            "Saved: slides/slide_01:17:08.jpg\n",
            "01:17:09\n",
            "Saved: slides/slide_01:17:09.jpg\n",
            "01:17:10\n",
            "Saved: slides/slide_01:17:10.jpg\n",
            "01:17:30\n",
            "Saved: slides/slide_01:17:30.jpg\n",
            "01:17:31\n",
            "Saved: slides/slide_01:17:31.jpg\n",
            "01:17:32\n",
            "Saved: slides/slide_01:17:32.jpg\n",
            "01:17:33\n",
            "Saved: slides/slide_01:17:33.jpg\n",
            "01:17:34\n",
            "Saved: slides/slide_01:17:34.jpg\n",
            "01:17:36\n",
            "Saved: slides/slide_01:17:36.jpg\n",
            "01:17:37\n",
            "Saved: slides/slide_01:17:37.jpg\n",
            "01:17:38\n",
            "Saved: slides/slide_01:17:38.jpg\n",
            "01:17:39\n",
            "Saved: slides/slide_01:17:39.jpg\n",
            "01:17:40\n",
            "Saved: slides/slide_01:17:40.jpg\n",
            "01:17:42\n",
            "Saved: slides/slide_01:17:42.jpg\n",
            "01:17:43\n",
            "Saved: slides/slide_01:17:43.jpg\n",
            "01:17:49\n",
            "Saved: slides/slide_01:17:49.jpg\n",
            "01:17:50\n",
            "Saved: slides/slide_01:17:50.jpg\n",
            "01:17:51\n",
            "Saved: slides/slide_01:17:51.jpg\n",
            "01:17:52\n",
            "Saved: slides/slide_01:17:52.jpg\n",
            "01:18:30\n",
            "Saved: slides/slide_01:18:30.jpg\n",
            "01:19:00\n",
            "Saved: slides/slide_01:19:00.jpg\n",
            "01:19:19\n",
            "Saved: slides/slide_01:19:19.jpg\n",
            "01:19:40\n",
            "Saved: slides/slide_01:19:40.jpg\n",
            "01:19:43\n",
            "Saved: slides/slide_01:19:43.jpg\n",
            "01:20:10\n",
            "Saved: slides/slide_01:20:10.jpg\n",
            "01:20:14\n",
            "Saved: slides/slide_01:20:14.jpg\n",
            "01:20:19\n",
            "Saved: slides/slide_01:20:19.jpg\n",
            "01:20:40\n",
            "Saved: slides/slide_01:20:40.jpg\n",
            "01:21:10\n",
            "Saved: slides/slide_01:21:10.jpg\n",
            "01:21:40\n",
            "Saved: slides/slide_01:21:40.jpg\n",
            "01:21:46\n",
            "Saved: slides/slide_01:21:46.jpg\n",
            "01:22:16\n",
            "Saved: slides/slide_01:22:16.jpg\n",
            "01:23:22\n",
            "Saved: slides/slide_01:23:22.jpg\n",
            "01:24:02\n",
            "Saved: slides/slide_01:24:02.jpg\n",
            "01:24:09\n",
            "Saved: slides/slide_01:24:09.jpg\n",
            "01:24:10\n",
            "Saved: slides/slide_01:24:10.jpg\n",
            "01:24:12\n",
            "Saved: slides/slide_01:24:12.jpg\n",
            "01:24:30\n",
            "Saved: slides/slide_01:24:30.jpg\n",
            "01:24:40\n",
            "Saved: slides/slide_01:24:40.jpg\n",
            "01:24:46\n",
            "Saved: slides/slide_01:24:46.jpg\n",
            "01:25:06\n",
            "Saved: slides/slide_01:25:06.jpg\n",
            "01:25:34\n",
            "Saved: slides/slide_01:25:34.jpg\n",
            "01:25:36\n",
            "Saved: slides/slide_01:25:36.jpg\n",
            "01:26:03\n",
            "Saved: slides/slide_01:26:03.jpg\n",
            "01:26:22\n",
            "Saved: slides/slide_01:26:22.jpg\n",
            "01:26:37\n",
            "Saved: slides/slide_01:26:37.jpg\n",
            "01:26:52\n",
            "Saved: slides/slide_01:26:52.jpg\n",
            "01:27:02\n",
            "Saved: slides/slide_01:27:02.jpg\n",
            "01:27:13\n",
            "Saved: slides/slide_01:27:13.jpg\n",
            "01:27:26\n",
            "Saved: slides/slide_01:27:26.jpg\n",
            "01:27:27\n",
            "Saved: slides/slide_01:27:27.jpg\n",
            "01:27:31\n",
            "Saved: slides/slide_01:27:31.jpg\n",
            "01:27:32\n",
            "Saved: slides/slide_01:27:32.jpg\n",
            "01:28:01\n",
            "Saved: slides/slide_01:28:01.jpg\n",
            "01:29:08\n",
            "Saved: slides/slide_01:29:08.jpg\n",
            "01:29:09\n",
            "Saved: slides/slide_01:29:09.jpg\n",
            "01:29:10\n",
            "Saved: slides/slide_01:29:10.jpg\n",
            "01:29:12\n",
            "Saved: slides/slide_01:29:12.jpg\n",
            "01:29:40\n",
            "Saved: slides/slide_01:29:40.jpg\n",
            "01:29:58\n",
            "Saved: slides/slide_01:29:58.jpg\n",
            "01:30:28\n",
            "Saved: slides/slide_01:30:28.jpg\n",
            "01:32:33\n",
            "Saved: slides/slide_01:32:33.jpg\n",
            "01:32:34\n",
            "Saved: slides/slide_01:32:34.jpg\n",
            "01:33:03\n",
            "Saved: slides/slide_01:33:03.jpg\n",
            "01:33:15\n",
            "Saved: slides/slide_01:33:15.jpg\n",
            "01:33:33\n",
            "Saved: slides/slide_01:33:33.jpg\n",
            "01:34:21\n",
            "Saved: slides/slide_01:34:21.jpg\n",
            "01:34:33\n",
            "Saved: slides/slide_01:34:33.jpg\n",
            "01:34:43\n",
            "Saved: slides/slide_01:34:43.jpg\n",
            "01:34:44\n",
            "Saved: slides/slide_01:34:44.jpg\n",
            "01:35:14\n",
            "Saved: slides/slide_01:35:14.jpg\n",
            "01:35:45\n",
            "Saved: slides/slide_01:35:45.jpg\n",
            "01:36:14\n",
            "Saved: slides/slide_01:36:14.jpg\n",
            "01:36:44\n",
            "Saved: slides/slide_01:36:44.jpg\n",
            "Slide changes detected at: ['00:00:01', '00:00:02', '00:00:27', '00:01:31', '00:02:01', '00:03:09', '00:03:14', '00:03:19', '00:03:48', '00:04:30', '00:05:00', '00:06:26', '00:08:54', '00:09:24', '00:11:27', '00:15:21', '00:15:34', '00:15:43', '00:16:03', '00:17:15', '00:17:27', '00:17:28', '00:19:56', '00:20:26', '00:22:21', '00:22:58', '00:23:38', '00:23:58', '00:26:52', '00:26:54', '00:27:10', '00:27:32', '00:27:43', '00:27:51', '00:28:46', '00:29:16', '00:31:40', '00:33:09', '00:33:39', '00:34:32', '00:35:02', '00:36:04', '00:37:44', '00:37:45', '00:39:44', '00:40:15', '00:40:19', '00:40:21', '00:40:22', '00:40:24', '00:40:25', '00:40:26', '00:40:27', '00:40:28', '00:40:30', '00:40:31', '00:40:32', '00:40:33', '00:40:34', '00:40:36', '00:40:38', '00:40:39', '00:40:43', '00:40:44', '00:40:49', '00:40:52', '00:40:54', '00:40:55', '00:40:56', '00:40:57', '00:40:58', '00:41:01', '00:41:02', '00:41:08', '00:41:13', '00:41:15', '00:41:20', '00:41:21', '00:41:22', '00:41:24', '00:41:25', '00:41:26', '00:41:27', '00:41:28', '00:41:30', '00:41:31', '00:41:32', '00:41:33', '00:41:34', '00:41:36', '00:41:37', '00:41:38', '00:41:39', '00:41:40', '00:41:42', '00:41:43', '00:41:44', '00:41:45', '00:41:46', '00:41:48', '00:41:49', '00:41:50', '00:41:51', '00:41:52', '00:41:54', '00:41:55', '00:41:56', '00:41:57', '00:41:58', '00:42:00', '00:42:01', '00:42:02', '00:42:03', '00:42:06', '00:42:07', '00:43:18', '00:43:19', '00:43:25', '00:43:34', '00:44:04', '00:44:24', '00:44:34', '00:44:54', '00:45:54', '00:46:24', '00:46:51', '00:47:21', '00:47:33', '00:48:45', '00:48:46', '00:48:49', '00:48:50', '00:48:52', '00:49:22', '00:49:52', '00:51:33', '00:51:52', '00:54:21', '00:54:38', '00:54:51', '00:56:52', '00:57:09', '00:57:21', '00:57:42', '00:57:51', '00:58:10', '00:58:21', '00:58:51', '00:59:21', '00:59:51', '01:00:12', '01:00:42', '01:01:37', '01:01:39', '01:01:42', '01:01:54', '01:02:04', '01:02:06', '01:02:08', '01:02:12', '01:02:34', '01:03:04', '01:03:16', '01:03:26', '01:05:26', '01:05:33', '01:05:43', '01:06:03', '01:06:21', '01:06:44', '01:06:45', '01:06:46', '01:06:49', '01:07:10', '01:07:12', '01:07:14', '01:07:18', '01:07:44', '01:08:14', '01:08:26', '01:08:27', '01:08:30', '01:08:44', '01:09:30', '01:09:45', '01:09:56', '01:09:57', '01:10:15', '01:10:27', '01:10:57', '01:11:27', '01:11:57', '01:12:27', '01:12:57', '01:13:12', '01:13:14', '01:13:15', '01:13:22', '01:14:52', '01:15:21', '01:15:25', '01:15:37', '01:15:54', '01:15:55', '01:15:58', '01:16:00', '01:16:09', '01:17:00', '01:17:08', '01:17:09', '01:17:10', '01:17:30', '01:17:31', '01:17:32', '01:17:33', '01:17:34', '01:17:36', '01:17:37', '01:17:38', '01:17:39', '01:17:40', '01:17:42', '01:17:43', '01:17:49', '01:17:50', '01:17:51', '01:17:52', '01:18:30', '01:19:00', '01:19:19', '01:19:40', '01:19:43', '01:20:10', '01:20:14', '01:20:19', '01:20:40', '01:21:10', '01:21:40', '01:21:46', '01:22:16', '01:23:22', '01:24:02', '01:24:09', '01:24:10', '01:24:12', '01:24:30', '01:24:40', '01:24:46', '01:25:06', '01:25:34', '01:25:36', '01:26:03', '01:26:22', '01:26:37', '01:26:52', '01:27:02', '01:27:13', '01:27:26', '01:27:27', '01:27:31', '01:27:32', '01:28:01', '01:29:08', '01:29:09', '01:29:10', '01:29:12', '01:29:40', '01:29:58', '01:30:28', '01:32:33', '01:32:34', '01:33:03', '01:33:15', '01:33:33', '01:34:21', '01:34:33', '01:34:43', '01:34:44', '01:35:14', '01:35:45', '01:36:14', '01:36:44']\n"
          ]
        }
      ]
    },
    {
      "cell_type": "markdown",
      "source": [
        "63"
      ],
      "metadata": {
        "id": "kUOVB_BJ84WY"
      }
    },
    {
      "cell_type": "code",
      "source": [
        "print(f\"detected slides {len(slide_changes)}\")"
      ],
      "metadata": {
        "colab": {
          "base_uri": "https://localhost:8080/"
        },
        "id": "RyUQrIWK1Tpc",
        "outputId": "883c067b-8ad3-44f6-ffc7-769db4944ca6"
      },
      "execution_count": 27,
      "outputs": [
        {
          "output_type": "stream",
          "name": "stdout",
          "text": [
            "detected slides 282\n"
          ]
        }
      ]
    },
    {
      "cell_type": "markdown",
      "source": [
        "# Audio extraction"
      ],
      "metadata": {
        "id": "NNAVDti0a1Cj"
      }
    },
    {
      "cell_type": "code",
      "source": [
        "!pip install git+https://github.com/openai/whisper.git"
      ],
      "metadata": {
        "id": "4tHPDl3Wa36U",
        "colab": {
          "base_uri": "https://localhost:8080/"
        },
        "outputId": "5b37e737-3077-4c9b-c488-1ba8608fdcf0"
      },
      "execution_count": 13,
      "outputs": [
        {
          "output_type": "stream",
          "name": "stdout",
          "text": [
            "Collecting git+https://github.com/openai/whisper.git\n",
            "  Cloning https://github.com/openai/whisper.git to /tmp/pip-req-build-2ko7lsfz\n",
            "  Running command git clone --filter=blob:none --quiet https://github.com/openai/whisper.git /tmp/pip-req-build-2ko7lsfz\n",
            "  Resolved https://github.com/openai/whisper.git to commit e58f28804528831904c3b6f2c0e473f346223433\n",
            "  Installing build dependencies ... \u001b[?25l\u001b[?25hdone\n",
            "  Getting requirements to build wheel ... \u001b[?25l\u001b[?25hdone\n",
            "  Preparing metadata (pyproject.toml) ... \u001b[?25l\u001b[?25hdone\n",
            "Requirement already satisfied: triton<3,>=2.0.0 in /usr/local/lib/python3.10/dist-packages (from openai-whisper==20231117) (2.1.0)\n",
            "Requirement already satisfied: numba in /usr/local/lib/python3.10/dist-packages (from openai-whisper==20231117) (0.58.1)\n",
            "Requirement already satisfied: numpy in /usr/local/lib/python3.10/dist-packages (from openai-whisper==20231117) (1.23.5)\n",
            "Requirement already satisfied: torch in /usr/local/lib/python3.10/dist-packages (from openai-whisper==20231117) (2.1.0+cu118)\n",
            "Requirement already satisfied: tqdm in /usr/local/lib/python3.10/dist-packages (from openai-whisper==20231117) (4.66.1)\n",
            "Requirement already satisfied: more-itertools in /usr/local/lib/python3.10/dist-packages (from openai-whisper==20231117) (10.1.0)\n",
            "Collecting tiktoken (from openai-whisper==20231117)\n",
            "  Downloading tiktoken-0.5.1-cp310-cp310-manylinux_2_17_x86_64.manylinux2014_x86_64.whl (2.0 MB)\n",
            "\u001b[2K     \u001b[90m━━━━━━━━━━━━━━━━━━━━━━━━━━━━━━━━━━━━━━━━\u001b[0m \u001b[32m2.0/2.0 MB\u001b[0m \u001b[31m28.2 MB/s\u001b[0m eta \u001b[36m0:00:00\u001b[0m\n",
            "\u001b[?25hRequirement already satisfied: filelock in /usr/local/lib/python3.10/dist-packages (from triton<3,>=2.0.0->openai-whisper==20231117) (3.13.1)\n",
            "Requirement already satisfied: llvmlite<0.42,>=0.41.0dev0 in /usr/local/lib/python3.10/dist-packages (from numba->openai-whisper==20231117) (0.41.1)\n",
            "Requirement already satisfied: regex>=2022.1.18 in /usr/local/lib/python3.10/dist-packages (from tiktoken->openai-whisper==20231117) (2023.6.3)\n",
            "Requirement already satisfied: requests>=2.26.0 in /usr/local/lib/python3.10/dist-packages (from tiktoken->openai-whisper==20231117) (2.31.0)\n",
            "Requirement already satisfied: typing-extensions in /usr/local/lib/python3.10/dist-packages (from torch->openai-whisper==20231117) (4.5.0)\n",
            "Requirement already satisfied: sympy in /usr/local/lib/python3.10/dist-packages (from torch->openai-whisper==20231117) (1.12)\n",
            "Requirement already satisfied: networkx in /usr/local/lib/python3.10/dist-packages (from torch->openai-whisper==20231117) (3.2.1)\n",
            "Requirement already satisfied: jinja2 in /usr/local/lib/python3.10/dist-packages (from torch->openai-whisper==20231117) (3.1.2)\n",
            "Requirement already satisfied: fsspec in /usr/local/lib/python3.10/dist-packages (from torch->openai-whisper==20231117) (2023.6.0)\n",
            "Requirement already satisfied: charset-normalizer<4,>=2 in /usr/local/lib/python3.10/dist-packages (from requests>=2.26.0->tiktoken->openai-whisper==20231117) (3.3.2)\n",
            "Requirement already satisfied: idna<4,>=2.5 in /usr/local/lib/python3.10/dist-packages (from requests>=2.26.0->tiktoken->openai-whisper==20231117) (3.4)\n",
            "Requirement already satisfied: urllib3<3,>=1.21.1 in /usr/local/lib/python3.10/dist-packages (from requests>=2.26.0->tiktoken->openai-whisper==20231117) (2.0.7)\n",
            "Requirement already satisfied: certifi>=2017.4.17 in /usr/local/lib/python3.10/dist-packages (from requests>=2.26.0->tiktoken->openai-whisper==20231117) (2023.7.22)\n",
            "Requirement already satisfied: MarkupSafe>=2.0 in /usr/local/lib/python3.10/dist-packages (from jinja2->torch->openai-whisper==20231117) (2.1.3)\n",
            "Requirement already satisfied: mpmath>=0.19 in /usr/local/lib/python3.10/dist-packages (from sympy->torch->openai-whisper==20231117) (1.3.0)\n",
            "Building wheels for collected packages: openai-whisper\n",
            "  Building wheel for openai-whisper (pyproject.toml) ... \u001b[?25l\u001b[?25hdone\n",
            "  Created wheel for openai-whisper: filename=openai_whisper-20231117-py3-none-any.whl size=801358 sha256=4663ff5c9fc3364523046e68ba7421aba3d945423d193d2254aa98812ae4556d\n",
            "  Stored in directory: /tmp/pip-ephem-wheel-cache-qfxittbp/wheels/8b/6c/d0/622666868c179f156cf595c8b6f06f88bc5d80c4b31dccaa03\n",
            "Successfully built openai-whisper\n",
            "Installing collected packages: tiktoken, openai-whisper\n",
            "\u001b[31mERROR: pip's dependency resolver does not currently take into account all the packages that are installed. This behaviour is the source of the following dependency conflicts.\n",
            "llmx 0.0.15a0 requires cohere, which is not installed.\n",
            "llmx 0.0.15a0 requires openai, which is not installed.\u001b[0m\u001b[31m\n",
            "\u001b[0mSuccessfully installed openai-whisper-20231117 tiktoken-0.5.1\n"
          ]
        }
      ]
    },
    {
      "cell_type": "code",
      "source": [
        "import whisper\n",
        "#if transcription suck change the model size: tiny < base < small < medium < large\n",
        "#if transcribing from english use .en eg small.en\n",
        "def transcribe_video(video_path, model_size='medium.en'):\n",
        "    model = whisper.load_model(model_size)\n",
        "    result = model.transcribe(video_path)\n",
        "    return result"
      ],
      "metadata": {
        "id": "0fIvPrh4a8KU"
      },
      "execution_count": 28,
      "outputs": []
    },
    {
      "cell_type": "code",
      "source": [
        "def interleave_transcription_with_slides(transcription, slide_changes):\n",
        "    interleaved_data = []\n",
        "    current_slide = 0\n",
        "\n",
        "    for segment in transcription['segments']:\n",
        "        # Find the next slide change that occurs after this segment starts\n",
        "        while current_slide < len(slide_changes) and slide_changes[current_slide] <= segment['start']:\n",
        "            interleaved_data.append({'type': 'slide_change', 'timestamp': slide_changes[current_slide]})\n",
        "            current_slide += 1\n",
        "\n",
        "        # Add the transcribed text\n",
        "        interleaved_data.append({'type': 'transcription', 'timestamp': segment['start'], 'text': segment['text']})\n",
        "\n",
        "    # Handle any remaining slide changes\n",
        "    while current_slide < len(slide_changes):\n",
        "        interleaved_data.append({'type': 'slide_change', 'timestamp': slide_changes[current_slide]})\n",
        "        current_slide += 1\n",
        "\n",
        "    return interleaved_data"
      ],
      "metadata": {
        "id": "cw0oBthdbBJo"
      },
      "execution_count": 29,
      "outputs": []
    },
    {
      "cell_type": "markdown",
      "source": [
        "#pdf or docx creation"
      ],
      "metadata": {
        "id": "bqXpP6KDbPIc"
      }
    },
    {
      "cell_type": "code",
      "source": [
        "!pip install python-docx"
      ],
      "metadata": {
        "colab": {
          "base_uri": "https://localhost:8080/"
        },
        "id": "pMh1C3O0bjHn",
        "outputId": "f076c2f8-eacd-424c-deb0-f7a965515fd1"
      },
      "execution_count": 17,
      "outputs": [
        {
          "output_type": "stream",
          "name": "stdout",
          "text": [
            "Collecting python-docx\n",
            "  Downloading python_docx-1.1.0-py3-none-any.whl (239 kB)\n",
            "\u001b[2K     \u001b[90m━━━━━━━━━━━━━━━━━━━━━━━━━━━━━━━━━━━━━━━━\u001b[0m \u001b[32m239.6/239.6 kB\u001b[0m \u001b[31m3.4 MB/s\u001b[0m eta \u001b[36m0:00:00\u001b[0m\n",
            "\u001b[?25hRequirement already satisfied: lxml>=3.1.0 in /usr/local/lib/python3.10/dist-packages (from python-docx) (4.9.3)\n",
            "Requirement already satisfied: typing-extensions in /usr/local/lib/python3.10/dist-packages (from python-docx) (4.5.0)\n",
            "Installing collected packages: python-docx\n",
            "Successfully installed python-docx-1.1.0\n"
          ]
        }
      ]
    },
    {
      "cell_type": "code",
      "source": [
        "from docx import Document\n",
        "from docx.shared import Pt, Inches, Cm\n",
        "from docx.enum.text import WD_PARAGRAPH_ALIGNMENT\n",
        "from docx.enum.section import WD_SECTION_START\n",
        "\n",
        "\n",
        "def create_document(interleaved_data, video_path, slides_folder='slides'):\n",
        "    # Extract base name and remove extension to form the DOCX file name\n",
        "    base_name = os.path.basename(video_path)\n",
        "    file_name_without_ext = os.path.splitext(base_name)[0]\n",
        "    output_file = f'{file_name_without_ext}.docx'\n",
        "\n",
        "    doc = Document()\n",
        "\n",
        "    style = doc.styles['Normal']\n",
        "    style.paragraph_format.line_spacing = 1  # Single line spacing\n",
        "    style.paragraph_format.space_before = Pt(0)\n",
        "    style.paragraph_format.space_after = Pt(0)\n",
        "\n",
        "    for item in interleaved_data:\n",
        "        if item['type'] == 'slide_change':\n",
        "      # Add slide image\n",
        "            slide_image_path = f\"{slides_folder}/slide_{item['timestamp']}.jpg\"\n",
        "            p = doc.add_paragraph()\n",
        "            try:\n",
        "                p.add_run().add_picture(slide_image_path, width=Inches(6))  # Adjust the width as needed\n",
        "            except Exception as e:\n",
        "                p.add_run(f\"Could not load slide image: {slide_image_path}\")\n",
        "        else:\n",
        "             # Clean up the transcribed text\n",
        "            cleaned_text = item['text'].strip().replace('\\n', ' ')\n",
        "            # Add the cleaned text to the document\n",
        "            p = doc.add_paragraph(cleaned_text)\n",
        "            # Adjust paragraph formatting as needed\n",
        "            p.paragraph_format.line_spacing = 1  # Single line spacing\n",
        "            p.paragraph_format.space_before = Pt(0)\n",
        "            p.paragraph_format.space_after = Pt(0)\n",
        "\n",
        "    doc.save(output_file)\n",
        "    print(f\"Document saved as: {output_file}\")\n",
        "\n",
        "\n",
        "def convert_timestamp_to_seconds(timestamp_str):\n",
        "    parts = timestamp_str.split(':')\n",
        "    if len(parts) == 3:\n",
        "        hours, minutes, seconds = map(int, parts)\n",
        "        return hours * 3600 + minutes * 60 + seconds\n",
        "    elif len(parts) == 2:\n",
        "        minutes, seconds = map(int, parts)\n",
        "        return minutes * 60 + seconds\n",
        "    else:\n",
        "        raise ValueError(f\"Invalid timestamp format: {timestamp_str}\")\n",
        "\n",
        "def interleave_transcription_with_slides(transcription, slide_changes):\n",
        "    # Convert slide change timestamps to seconds\n",
        "    slide_changes_seconds = [convert_timestamp_to_seconds(ts) for ts in slide_changes]\n",
        "\n",
        "    interleaved_data = []\n",
        "    current_slide = 0\n",
        "\n",
        "    for segment in transcription['segments']:\n",
        "        # Find the next slide change that occurs after this segment starts\n",
        "        while current_slide < len(slide_changes_seconds) and slide_changes_seconds[current_slide] <= segment['start']:\n",
        "            interleaved_data.append({'type': 'slide_change', 'timestamp': slide_changes[current_slide]})\n",
        "            current_slide += 1\n",
        "\n",
        "        # Add the transcribed text\n",
        "        interleaved_data.append({'type': 'transcription', 'timestamp': segment['start'], 'text': segment['text']})\n",
        "\n",
        "    # Handle any remaining slide changes\n",
        "    while current_slide < len(slide_changes_seconds):\n",
        "        interleaved_data.append({'type': 'slide_change', 'timestamp': slide_changes[current_slide]})\n",
        "        current_slide += 1\n",
        "\n",
        "    return interleaved_data\n",
        "\n",
        "# Transcribe video\n",
        "transcription = transcribe_video(input_video_path)\n",
        "\n",
        "# Interleave transcription with slide changes\n",
        "interleaved_data = interleave_transcription_with_slides(transcription, slide_changes)\n",
        "\n",
        "# Create DOCX document\n",
        "create_document(interleaved_data, output_video_path)"
      ],
      "metadata": {
        "id": "Z1sK46IiboN8",
        "colab": {
          "base_uri": "https://localhost:8080/"
        },
        "outputId": "f9ec6ae5-94d4-4a52-fb2d-7bd17004f00d"
      },
      "execution_count": 30,
      "outputs": [
        {
          "output_type": "stream",
          "name": "stdout",
          "text": [
            "Document saved as: 10_AN2DL_CS_Localization_WSL_Explanations_converted.docx\n"
          ]
        }
      ]
    },
    {
      "cell_type": "code",
      "source": [
        "%ls"
      ],
      "metadata": {
        "colab": {
          "base_uri": "https://localhost:8080/"
        },
        "id": "5bOAgSizs2nD",
        "outputId": "ded5e8fc-8afe-43df-9ef4-2940910162cb"
      },
      "execution_count": null,
      "outputs": [
        {
          "output_type": "stream",
          "name": "stdout",
          "text": [
            "shell-init: error retrieving current directory: getcwd: cannot access parent directories: No such file or directory\n",
            "9_Semantic_Segmentation_converted.docx  converted_video.mp4     output.docx\n",
            "9_Semantic_Segmentation_converted.mp4   CSR-20221124.mp4        \u001b[0m\u001b[01;34mslides\u001b[0m/\n",
            "9_Semantic_Segmentation.mp4             LessonsExtractor.ipynb\n"
          ]
        }
      ]
    },
    {
      "cell_type": "markdown",
      "source": [
        "eliminate the slides images after having generated the docx output"
      ],
      "metadata": {
        "id": "s87R8Ymqum4s"
      }
    },
    {
      "cell_type": "code",
      "source": [
        "%rm -rf /content/drive/MyDrive/lessonsExtractor/slides"
      ],
      "metadata": {
        "id": "j2xchC3lt87G"
      },
      "execution_count": 31,
      "outputs": []
    },
    {
      "cell_type": "markdown",
      "source": [
        "code to put only slides in a docx"
      ],
      "metadata": {
        "id": "VBMmUvPzqCN7"
      }
    },
    {
      "cell_type": "code",
      "source": [
        "from docx import Document\n",
        "from docx.shared import Inches\n",
        "import os\n",
        "\n",
        "def create_document_with_slides_only(slide_changes, video_path, slides_folder='slides'):\n",
        "    # Extract base name and remove extension to form the DOCX file name\n",
        "    base_name = os.path.basename(video_path)\n",
        "    file_name_without_ext = os.path.splitext(base_name)[0]\n",
        "    output_file = f'{file_name_without_ext}_slides_only.docx'\n",
        "\n",
        "    doc = Document()\n",
        "\n",
        "    for timestamp in slide_changes:\n",
        "        slide_image_path = f\"{slides_folder}/slide_{timestamp}.jpg\"\n",
        "        p = doc.add_paragraph()\n",
        "        try:\n",
        "            p.add_run().add_picture(slide_image_path, width=Inches(6))  # Adjust the width as needed\n",
        "        except Exception as e:\n",
        "            p.add_run(f\"Could not load slide image: {slide_image_path}\")\n",
        "\n",
        "    doc.save(output_file)\n",
        "    print(f\"Document saved as: {output_file}\")\n",
        "\n",
        "# Example usage:\n",
        "# slide_changes = ['00:00:10', '00:01:15', '00:02:30']  # List of timestamps for slide changes\n",
        "create_document_with_slides_only(slide_changes, input_video_path)\n"
      ],
      "metadata": {
        "colab": {
          "base_uri": "https://localhost:8080/"
        },
        "id": "KkKI3FY5pMvy",
        "outputId": "ba9f7cf5-3403-4f7f-ea23-2fc910b600bf"
      },
      "execution_count": null,
      "outputs": [
        {
          "output_type": "stream",
          "name": "stdout",
          "text": [
            "Document saved as: 9_Semantic_Segmentation_converted_slides_only.docx\n"
          ]
        }
      ]
    }
  ]
}